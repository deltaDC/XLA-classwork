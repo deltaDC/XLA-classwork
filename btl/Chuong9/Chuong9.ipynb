{
 "cells": [
  {
   "cell_type": "code",
   "id": "74f18a8407d37bad",
   "metadata": {
    "collapsed": true,
    "ExecuteTime": {
     "end_time": "2024-11-28T18:15:11.569302Z",
     "start_time": "2024-11-28T18:15:11.565239Z"
    }
   },
   "source": [
    "import tensorflow as tf\n",
    "from tensorflow.keras import Sequential\n",
    "from tensorflow.keras.layers import Dense, Flatten\n",
    "import matplotlib.pyplot as plt\n"
   ],
   "outputs": [],
   "execution_count": 15
  },
  {
   "metadata": {
    "ExecuteTime": {
     "end_time": "2024-11-28T18:15:11.895926Z",
     "start_time": "2024-11-28T18:15:11.578312Z"
    }
   },
   "cell_type": "code",
   "source": [
    "# Tải và chuẩn bị dữ liệu MNIST\n",
    "(train_images, train_labels), (test_images, test_labels) = tf.keras.datasets.mnist.load_data()\n"
   ],
   "id": "92687a3ff55b3d9f",
   "outputs": [],
   "execution_count": 16
  },
  {
   "metadata": {
    "ExecuteTime": {
     "end_time": "2024-11-28T18:15:12.123647Z",
     "start_time": "2024-11-28T18:15:11.897927Z"
    }
   },
   "cell_type": "code",
   "source": [
    "# Chuẩn hóa dữ liệu (đưa giá trị pixel về khoảng 0-1)\n",
    "train_images = train_images / 255.0\n",
    "test_images = test_images / 255.0\n"
   ],
   "id": "8254f5c348e81256",
   "outputs": [],
   "execution_count": 17
  },
  {
   "metadata": {
    "ExecuteTime": {
     "end_time": "2024-11-28T18:15:12.726275Z",
     "start_time": "2024-11-28T18:15:12.127656Z"
    }
   },
   "cell_type": "code",
   "source": [
    "# Hiển thị vài mẫu ảnh\n",
    "plt.figure(figsize=(10, 5))\n",
    "for i in range(6):\n",
    "    plt.subplot(2, 3, i + 1)\n",
    "    plt.imshow(train_images[i], cmap='gray')\n",
    "    plt.title(f\"Label: {train_labels[i]}\")\n",
    "    plt.axis('off')\n",
    "plt.show()\n"
   ],
   "id": "be6c64de2256cb18",
   "outputs": [
    {
     "data": {
      "text/plain": [
       "<Figure size 1000x500 with 6 Axes>"
      ],
      "image/png": "[encoded data removed]"
     },
     "metadata": {},
     "output_type": "display_data"
    }
   ],
   "execution_count": 18
  },
  {
   "metadata": {
    "ExecuteTime": {
     "end_time": "2024-11-28T18:15:12.760485Z",
     "start_time": "2024-11-28T18:15:12.729284Z"
    }
   },
   "cell_type": "code",
   "source": [
    "# Xây dựng mô hình mạng nơ-ron\n",
    "model = Sequential([\n",
    "    Flatten(input_shape=(28, 28)),       # Chuyển ma trận 28x28 thành vector 784 phần tử\n",
    "    Dense(128, activation='relu'),       # Lớp ẩn với 128 nơ-ron và hàm kích hoạt ReLU\n",
    "    Dense(10, activation='softmax')      # Lớp đầu ra với 10 nơ-ron, tương ứng 10 chữ số (0-9)\n",
    "])\n"
   ],
   "id": "253d4d2143dd68aa",
   "outputs": [],
   "execution_count": 19
  },
  {
   "metadata": {
    "ExecuteTime": {
     "end_time": "2024-11-28T18:15:12.846677Z",
     "start_time": "2024-11-28T18:15:12.762494Z"
    }
   },
   "cell_type": "code",
   "source": [
    "# Compile mô hình\n",
    "model.compile(optimizer='adam',\n",
    "              loss='sparse_categorical_crossentropy',\n",
    "              metrics=['accuracy'])\n"
   ],
   "id": "5f70e71f9ac50ccd",
   "outputs": [],
   "execution_count": 20
  },
  {
   "metadata": {
    "ExecuteTime": {
     "end_time": "2024-11-28T18:18:23.589971Z",
     "start_time": "2024-11-28T18:15:12.849685Z"
    }
   },
   "cell_type": "code",
   "source": [
    "# Huấn luyện mô hình\n",
    "model.fit(train_images, train_labels, epochs=50, validation_split=0.2)\n"
   ],
   "id": "3d86af5624bda823",
   "outputs": [
    {
     "name": "stdout",
     "output_type": "stream",
     "text": [
      "Epoch 1/50\n",
      "\u001B[1m1500/1500\u001B[0m \u001B[32m━━━━━━━━━━━━━━━━━━━━\u001B[0m\u001B[37m\u001B[0m \u001B[1m4s\u001B[0m 2ms/step - accuracy: 0.8633 - loss: 0.4800 - val_accuracy: 0.9546 - val_loss: 0.1579\n",
      "Epoch 2/50\n",
      "\u001B[1m1500/1500\u001B[0m \u001B[32m━━━━━━━━━━━━━━━━━━━━\u001B[0m\u001B[37m\u001B[0m \u001B[1m5s\u001B[0m 2ms/step - accuracy: 0.9626 - loss: 0.1319 - val_accuracy: 0.9679 - val_loss: 0.1109\n",
      "Epoch 3/50\n",
      "\u001B[1m1500/1500\u001B[0m \u001B[32m━━━━━━━━━━━━━━━━━━━━\u001B[0m\u001B[37m\u001B[0m \u001B[1m3s\u001B[0m 2ms/step - accuracy: 0.9741 - loss: 0.0875 - val_accuracy: 0.9730 - val_loss: 0.0953\n",
      "Epoch 4/50\n",
      "\u001B[1m1500/1500\u001B[0m \u001B[32m━━━━━━━━━━━━━━━━━━━━\u001B[0m\u001B[37m\u001B[0m \u001B[1m3s\u001B[0m 2ms/step - accuracy: 0.9821 - loss: 0.0602 - val_accuracy: 0.9732 - val_loss: 0.0922\n",
      "Epoch 5/50\n",
      "\u001B[1m1500/1500\u001B[0m \u001B[32m━━━━━━━━━━━━━━━━━━━━\u001B[0m\u001B[37m\u001B[0m \u001B[1m3s\u001B[0m 2ms/step - accuracy: 0.9858 - loss: 0.0494 - val_accuracy: 0.9719 - val_loss: 0.0942\n",
      "Epoch 6/50\n",
      "\u001B[1m1500/1500\u001B[0m \u001B[32m━━━━━━━━━━━━━━━━━━━━\u001B[0m\u001B[37m\u001B[0m \u001B[1m3s\u001B[0m 2ms/step - accuracy: 0.9890 - loss: 0.0369 - val_accuracy: 0.9747 - val_loss: 0.0848\n",
      "Epoch 7/50\n",
      "\u001B[1m1500/1500\u001B[0m \u001B[32m━━━━━━━━━━━━━━━━━━━━\u001B[0m\u001B[37m\u001B[0m \u001B[1m3s\u001B[0m 2ms/step - accuracy: 0.9923 - loss: 0.0276 - val_accuracy: 0.9740 - val_loss: 0.0903\n",
      "Epoch 8/50\n",
      "\u001B[1m1500/1500\u001B[0m \u001B[32m━━━━━━━━━━━━━━━━━━━━\u001B[0m\u001B[37m\u001B[0m \u001B[1m3s\u001B[0m 2ms/step - accuracy: 0.9937 - loss: 0.0219 - val_accuracy: 0.9756 - val_loss: 0.0887\n",
      "Epoch 9/50\n",
      "\u001B[1m1500/1500\u001B[0m \u001B[32m━━━━━━━━━━━━━━━━━━━━\u001B[0m\u001B[37m\u001B[0m \u001B[1m3s\u001B[0m 2ms/step - accuracy: 0.9953 - loss: 0.0188 - val_accuracy: 0.9776 - val_loss: 0.0862\n",
      "Epoch 10/50\n",
      "\u001B[1m1500/1500\u001B[0m \u001B[32m━━━━━━━━━━━━━━━━━━━━\u001B[0m\u001B[37m\u001B[0m \u001B[1m3s\u001B[0m 2ms/step - accuracy: 0.9969 - loss: 0.0131 - val_accuracy: 0.9754 - val_loss: 0.0944\n",
      "Epoch 11/50\n",
      "\u001B[1m1500/1500\u001B[0m \u001B[32m━━━━━━━━━━━━━━━━━━━━\u001B[0m\u001B[37m\u001B[0m \u001B[1m4s\u001B[0m 3ms/step - accuracy: 0.9963 - loss: 0.0128 - val_accuracy: 0.9739 - val_loss: 0.1075\n",
      "Epoch 12/50\n",
      "\u001B[1m1500/1500\u001B[0m \u001B[32m━━━━━━━━━━━━━━━━━━━━\u001B[0m\u001B[37m\u001B[0m \u001B[1m4s\u001B[0m 2ms/step - accuracy: 0.9965 - loss: 0.0116 - val_accuracy: 0.9755 - val_loss: 0.1058\n",
      "Epoch 13/50\n",
      "\u001B[1m1500/1500\u001B[0m \u001B[32m━━━━━━━━━━━━━━━━━━━━\u001B[0m\u001B[37m\u001B[0m \u001B[1m3s\u001B[0m 2ms/step - accuracy: 0.9971 - loss: 0.0101 - val_accuracy: 0.9769 - val_loss: 0.1043\n",
      "Epoch 14/50\n",
      "\u001B[1m1500/1500\u001B[0m \u001B[32m━━━━━━━━━━━━━━━━━━━━\u001B[0m\u001B[37m\u001B[0m \u001B[1m4s\u001B[0m 2ms/step - accuracy: 0.9981 - loss: 0.0072 - val_accuracy: 0.9760 - val_loss: 0.1032\n",
      "Epoch 15/50\n",
      "\u001B[1m1500/1500\u001B[0m \u001B[32m━━━━━━━━━━━━━━━━━━━━\u001B[0m\u001B[37m\u001B[0m \u001B[1m3s\u001B[0m 2ms/step - accuracy: 0.9988 - loss: 0.0054 - val_accuracy: 0.9753 - val_loss: 0.1099\n",
      "Epoch 16/50\n",
      "\u001B[1m1500/1500\u001B[0m \u001B[32m━━━━━━━━━━━━━━━━━━━━\u001B[0m\u001B[37m\u001B[0m \u001B[1m3s\u001B[0m 2ms/step - accuracy: 0.9984 - loss: 0.0064 - val_accuracy: 0.9778 - val_loss: 0.1031\n",
      "Epoch 17/50\n",
      "\u001B[1m1500/1500\u001B[0m \u001B[32m━━━━━━━━━━━━━━━━━━━━\u001B[0m\u001B[37m\u001B[0m \u001B[1m3s\u001B[0m 2ms/step - accuracy: 0.9987 - loss: 0.0056 - val_accuracy: 0.9754 - val_loss: 0.1191\n",
      "Epoch 18/50\n",
      "\u001B[1m1500/1500\u001B[0m \u001B[32m━━━━━━━━━━━━━━━━━━━━\u001B[0m\u001B[37m\u001B[0m \u001B[1m3s\u001B[0m 2ms/step - accuracy: 0.9969 - loss: 0.0085 - val_accuracy: 0.9786 - val_loss: 0.1118\n",
      "Epoch 19/50\n",
      "\u001B[1m1500/1500\u001B[0m \u001B[32m━━━━━━━━━━━━━━━━━━━━\u001B[0m\u001B[37m\u001B[0m \u001B[1m3s\u001B[0m 2ms/step - accuracy: 0.9992 - loss: 0.0032 - val_accuracy: 0.9764 - val_loss: 0.1183\n",
      "Epoch 20/50\n",
      "\u001B[1m1500/1500\u001B[0m \u001B[32m━━━━━━━━━━━━━━━━━━━━\u001B[0m\u001B[37m\u001B[0m \u001B[1m3s\u001B[0m 2ms/step - accuracy: 0.9984 - loss: 0.0045 - val_accuracy: 0.9781 - val_loss: 0.1130\n",
      "Epoch 21/50\n",
      "\u001B[1m1500/1500\u001B[0m \u001B[32m━━━━━━━━━━━━━━━━━━━━\u001B[0m\u001B[37m\u001B[0m \u001B[1m3s\u001B[0m 2ms/step - accuracy: 0.9992 - loss: 0.0030 - val_accuracy: 0.9753 - val_loss: 0.1309\n",
      "Epoch 22/50\n",
      "\u001B[1m1500/1500\u001B[0m \u001B[32m━━━━━━━━━━━━━━━━━━━━\u001B[0m\u001B[37m\u001B[0m \u001B[1m8s\u001B[0m 4ms/step - accuracy: 0.9984 - loss: 0.0048 - val_accuracy: 0.9753 - val_loss: 0.1291\n",
      "Epoch 23/50\n",
      "\u001B[1m1500/1500\u001B[0m \u001B[32m━━━━━━━━━━━━━━━━━━━━\u001B[0m\u001B[37m\u001B[0m \u001B[1m4s\u001B[0m 3ms/step - accuracy: 0.9984 - loss: 0.0052 - val_accuracy: 0.9782 - val_loss: 0.1266\n",
      "Epoch 24/50\n",
      "\u001B[1m1500/1500\u001B[0m \u001B[32m━━━━━━━━━━━━━━━━━━━━\u001B[0m\u001B[37m\u001B[0m \u001B[1m6s\u001B[0m 3ms/step - accuracy: 0.9991 - loss: 0.0029 - val_accuracy: 0.9782 - val_loss: 0.1252\n",
      "Epoch 25/50\n",
      "\u001B[1m1500/1500\u001B[0m \u001B[32m━━━━━━━━━━━━━━━━━━━━\u001B[0m\u001B[37m\u001B[0m \u001B[1m6s\u001B[0m 4ms/step - accuracy: 0.9990 - loss: 0.0035 - val_accuracy: 0.9796 - val_loss: 0.1288\n",
      "Epoch 26/50\n",
      "\u001B[1m1500/1500\u001B[0m \u001B[32m━━━━━━━━━━━━━━━━━━━━\u001B[0m\u001B[37m\u001B[0m \u001B[1m3s\u001B[0m 2ms/step - accuracy: 0.9996 - loss: 0.0016 - val_accuracy: 0.9751 - val_loss: 0.1487\n",
      "Epoch 27/50\n",
      "\u001B[1m1500/1500\u001B[0m \u001B[32m━━━━━━━━━━━━━━━━━━━━\u001B[0m\u001B[37m\u001B[0m \u001B[1m3s\u001B[0m 2ms/step - accuracy: 0.9988 - loss: 0.0036 - val_accuracy: 0.9792 - val_loss: 0.1275\n",
      "Epoch 28/50\n",
      "\u001B[1m1500/1500\u001B[0m \u001B[32m━━━━━━━━━━━━━━━━━━━━\u001B[0m\u001B[37m\u001B[0m \u001B[1m5s\u001B[0m 2ms/step - accuracy: 0.9992 - loss: 0.0032 - val_accuracy: 0.9782 - val_loss: 0.1336\n",
      "Epoch 29/50\n",
      "\u001B[1m1500/1500\u001B[0m \u001B[32m━━━━━━━━━━━━━━━━━━━━\u001B[0m\u001B[37m\u001B[0m \u001B[1m3s\u001B[0m 2ms/step - accuracy: 0.9980 - loss: 0.0065 - val_accuracy: 0.9790 - val_loss: 0.1354\n",
      "Epoch 30/50\n",
      "\u001B[1m1500/1500\u001B[0m \u001B[32m━━━━━━━━━━━━━━━━━━━━\u001B[0m\u001B[37m\u001B[0m \u001B[1m5s\u001B[0m 3ms/step - accuracy: 0.9996 - loss: 0.0017 - val_accuracy: 0.9792 - val_loss: 0.1378\n",
      "Epoch 31/50\n",
      "\u001B[1m1500/1500\u001B[0m \u001B[32m━━━━━━━━━━━━━━━━━━━━\u001B[0m\u001B[37m\u001B[0m \u001B[1m4s\u001B[0m 3ms/step - accuracy: 0.9993 - loss: 0.0021 - val_accuracy: 0.9758 - val_loss: 0.1527\n",
      "Epoch 32/50\n",
      "\u001B[1m1500/1500\u001B[0m \u001B[32m━━━━━━━━━━━━━━━━━━━━\u001B[0m\u001B[37m\u001B[0m \u001B[1m4s\u001B[0m 3ms/step - accuracy: 0.9995 - loss: 0.0021 - val_accuracy: 0.9797 - val_loss: 0.1316\n",
      "Epoch 33/50\n",
      "\u001B[1m1500/1500\u001B[0m \u001B[32m━━━━━━━━━━━━━━━━━━━━\u001B[0m\u001B[37m\u001B[0m \u001B[1m4s\u001B[0m 2ms/step - accuracy: 0.9995 - loss: 0.0018 - val_accuracy: 0.9774 - val_loss: 0.1600\n",
      "Epoch 34/50\n",
      "\u001B[1m1500/1500\u001B[0m \u001B[32m━━━━━━━━━━━━━━━━━━━━\u001B[0m\u001B[37m\u001B[0m \u001B[1m7s\u001B[0m 3ms/step - accuracy: 0.9993 - loss: 0.0025 - val_accuracy: 0.9779 - val_loss: 0.1516\n",
      "Epoch 35/50\n",
      "\u001B[1m1500/1500\u001B[0m \u001B[32m━━━━━━━━━━━━━━━━━━━━\u001B[0m\u001B[37m\u001B[0m \u001B[1m4s\u001B[0m 3ms/step - accuracy: 0.9993 - loss: 0.0021 - val_accuracy: 0.9761 - val_loss: 0.1601\n",
      "Epoch 36/50\n",
      "\u001B[1m1500/1500\u001B[0m \u001B[32m━━━━━━━━━━━━━━━━━━━━\u001B[0m\u001B[37m\u001B[0m \u001B[1m5s\u001B[0m 3ms/step - accuracy: 0.9991 - loss: 0.0026 - val_accuracy: 0.9772 - val_loss: 0.1545\n",
      "Epoch 37/50\n",
      "\u001B[1m1500/1500\u001B[0m \u001B[32m━━━━━━━━━━━━━━━━━━━━\u001B[0m\u001B[37m\u001B[0m \u001B[1m4s\u001B[0m 2ms/step - accuracy: 0.9988 - loss: 0.0036 - val_accuracy: 0.9789 - val_loss: 0.1530\n",
      "Epoch 38/50\n",
      "\u001B[1m1500/1500\u001B[0m \u001B[32m━━━━━━━━━━━━━━━━━━━━\u001B[0m\u001B[37m\u001B[0m \u001B[1m4s\u001B[0m 2ms/step - accuracy: 0.9993 - loss: 0.0021 - val_accuracy: 0.9792 - val_loss: 0.1549\n",
      "Epoch 39/50\n",
      "\u001B[1m1500/1500\u001B[0m \u001B[32m━━━━━━━━━━━━━━━━━━━━\u001B[0m\u001B[37m\u001B[0m \u001B[1m3s\u001B[0m 2ms/step - accuracy: 0.9987 - loss: 0.0035 - val_accuracy: 0.9785 - val_loss: 0.1580\n",
      "Epoch 40/50\n",
      "\u001B[1m1500/1500\u001B[0m \u001B[32m━━━━━━━━━━━━━━━━━━━━\u001B[0m\u001B[37m\u001B[0m \u001B[1m4s\u001B[0m 3ms/step - accuracy: 0.9991 - loss: 0.0027 - val_accuracy: 0.9787 - val_loss: 0.1672\n",
      "Epoch 41/50\n",
      "\u001B[1m1500/1500\u001B[0m \u001B[32m━━━━━━━━━━━━━━━━━━━━\u001B[0m\u001B[37m\u001B[0m \u001B[1m3s\u001B[0m 2ms/step - accuracy: 0.9997 - loss: 0.0012 - val_accuracy: 0.9765 - val_loss: 0.1760\n",
      "Epoch 42/50\n",
      "\u001B[1m1500/1500\u001B[0m \u001B[32m━━━━━━━━━━━━━━━━━━━━\u001B[0m\u001B[37m\u001B[0m \u001B[1m3s\u001B[0m 2ms/step - accuracy: 0.9990 - loss: 0.0029 - val_accuracy: 0.9795 - val_loss: 0.1621\n",
      "Epoch 43/50\n",
      "\u001B[1m1500/1500\u001B[0m \u001B[32m━━━━━━━━━━━━━━━━━━━━\u001B[0m\u001B[37m\u001B[0m \u001B[1m4s\u001B[0m 3ms/step - accuracy: 0.9998 - loss: 9.7528e-04 - val_accuracy: 0.9797 - val_loss: 0.1547\n",
      "Epoch 44/50\n",
      "\u001B[1m1500/1500\u001B[0m \u001B[32m━━━━━━━━━━━━━━━━━━━━\u001B[0m\u001B[37m\u001B[0m \u001B[1m3s\u001B[0m 2ms/step - accuracy: 0.9993 - loss: 0.0030 - val_accuracy: 0.9763 - val_loss: 0.1877\n",
      "Epoch 45/50\n",
      "\u001B[1m1500/1500\u001B[0m \u001B[32m━━━━━━━━━━━━━━━━━━━━\u001B[0m\u001B[37m\u001B[0m \u001B[1m4s\u001B[0m 2ms/step - accuracy: 0.9997 - loss: 9.5215e-04 - val_accuracy: 0.9750 - val_loss: 0.1932\n",
      "Epoch 46/50\n",
      "\u001B[1m1500/1500\u001B[0m \u001B[32m━━━━━━━━━━━━━━━━━━━━\u001B[0m\u001B[37m\u001B[0m \u001B[1m4s\u001B[0m 3ms/step - accuracy: 0.9986 - loss: 0.0057 - val_accuracy: 0.9786 - val_loss: 0.1727\n",
      "Epoch 47/50\n",
      "\u001B[1m1500/1500\u001B[0m \u001B[32m━━━━━━━━━━━━━━━━━━━━\u001B[0m\u001B[37m\u001B[0m \u001B[1m4s\u001B[0m 3ms/step - accuracy: 0.9998 - loss: 8.6738e-04 - val_accuracy: 0.9754 - val_loss: 0.1930\n",
      "Epoch 48/50\n",
      "\u001B[1m1500/1500\u001B[0m \u001B[32m━━━━━━━━━━━━━━━━━━━━\u001B[0m\u001B[37m\u001B[0m \u001B[1m4s\u001B[0m 3ms/step - accuracy: 0.9987 - loss: 0.0050 - val_accuracy: 0.9759 - val_loss: 0.1921\n",
      "Epoch 49/50\n",
      "\u001B[1m1500/1500\u001B[0m \u001B[32m━━━━━━━━━━━━━━━━━━━━\u001B[0m\u001B[37m\u001B[0m \u001B[1m4s\u001B[0m 3ms/step - accuracy: 0.9990 - loss: 0.0030 - val_accuracy: 0.9770 - val_loss: 0.1888\n",
      "Epoch 50/50\n",
      "\u001B[1m1500/1500\u001B[0m \u001B[32m━━━━━━━━━━━━━━━━━━━━\u001B[0m\u001B[37m\u001B[0m \u001B[1m5s\u001B[0m 3ms/step - accuracy: 0.9995 - loss: 0.0016 - val_accuracy: 0.9797 - val_loss: 0.1767\n"
     ]
    },
    {
     "data": {
      "text/plain": [
       "<keras.src.callbacks.history.History at 0x2b52eda2c50>"
      ]
     },
     "execution_count": 21,
     "metadata": {},
     "output_type": "execute_result"
    }
   ],
   "execution_count": 21
  },
  {
   "metadata": {
    "ExecuteTime": {
     "end_time": "2024-11-28T18:18:24.574984Z",
     "start_time": "2024-11-28T18:18:23.590981Z"
    }
   },
   "cell_type": "code",
   "source": [
    "# Đánh giá mô hình trên tập dữ liệu kiểm tra\n",
    "test_loss, test_acc = model.evaluate(test_images, test_labels)\n",
    "print(f\"Độ chính xác trên tập kiểm tra: {test_acc * 100:.2f}%\")\n"
   ],
   "id": "fcaf25ac8b8a7c42",
   "outputs": [
    {
     "name": "stdout",
     "output_type": "stream",
     "text": [
      "\u001B[1m313/313\u001B[0m \u001B[32m━━━━━━━━━━━━━━━━━━━━\u001B[0m\u001B[37m\u001B[0m \u001B[1m1s\u001B[0m 2ms/step - accuracy: 0.9724 - loss: 0.1829\n",
      "Độ chính xác trên tập kiểm tra: 97.89%\n"
     ]
    }
   ],
   "execution_count": 22
  },
  {
   "metadata": {
    "ExecuteTime": {
     "end_time": "2024-11-28T18:18:24.674982Z",
     "start_time": "2024-11-28T18:18:24.575984Z"
    }
   },
   "cell_type": "code",
   "source": [
    "# Dự đoán một số ảnh từ tập kiểm tra\n",
    "predictions = model.predict(test_images[:5])\n"
   ],
   "id": "aa1463dbc1d8ccd2",
   "outputs": [
    {
     "name": "stdout",
     "output_type": "stream",
     "text": [
      "\u001B[1m1/1\u001B[0m \u001B[32m━━━━━━━━━━━━━━━━━━━━\u001B[0m\u001B[37m\u001B[0m \u001B[1m0s\u001B[0m 49ms/step\n"
     ]
    }
   ],
   "execution_count": 23
  },
  {
   "metadata": {
    "ExecuteTime": {
     "end_time": "2024-11-28T18:23:19.172525Z",
     "start_time": "2024-11-28T18:23:18.947697Z"
    }
   },
   "cell_type": "code",
   "source": [
    "# Hiển thị kết quả dự đoán\n",
    "plt.figure(figsize=(10, 5))\n",
    "for i in range(5):\n",
    "    plt.subplot(1, 5, i + 1)\n",
    "    plt.imshow(test_images[i], cmap='gray')\n",
    "    plt.title(f\"Dự đoán: {predictions[i].argmax()}\\nThực tế: {test_labels[i]}\")\n",
    "    plt.axis('off')\n",
    "plt.show()\n"
   ],
   "id": "initial_id",
   "outputs": [
    {
     "data": {
      "text/plain": [
       "<Figure size 1000x500 with 5 Axes>"
      ],
      "image/png": "[encoded data removed]"
     },
     "metadata": {},
     "output_type": "display_data"
    }
   ],
   "execution_count": 31
  },
  {
   "metadata": {
    "ExecuteTime": {
     "end_time": "2024-11-28T18:18:25.132434Z",
     "start_time": "2024-11-28T18:18:25.038497Z"
    }
   },
   "cell_type": "code",
   "source": "model.save(\"mnist_digit_model.h5\")\n",
   "id": "355202f402d6d33b",
   "outputs": [
    {
     "name": "stderr",
     "output_type": "stream",
     "text": [
      "WARNING:absl:You are saving your model as an HDF5 file via `model.save()` or `keras.saving.save_model(model)`. This file format is considered legacy. We recommend using instead the native Keras format, e.g. `model.save('my_model.keras')` or `keras.saving.save_model(model, 'my_model.keras')`. \n"
     ]
    }
   ],
   "execution_count": 25
  }
 ],
 "metadata": {
  "kernelspec": {
   "display_name": "Python 3",
   "language": "python",
   "name": "python3"
  },
  "language_info": {
   "codemirror_mode": {
    "name": "ipython",
    "version": 2
   },
   "file_extension": ".py",
   "mimetype": "text/x-python",
   "name": "python",
   "nbconvert_exporter": "python",
   "pygments_lexer": "ipython2",
   "version": "2.7.6"
  }
 },
 "nbformat": 4,
 "nbformat_minor": 5
}
