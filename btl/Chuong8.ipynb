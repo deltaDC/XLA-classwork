{
 "cells": [
  {
   "cell_type": "code",
   "execution_count": null,
   "id": "initial_id",
   "metadata": {
    "collapsed": true
   },
   "outputs": [],
   "source": [
    "import numpy as np\n",
    "from skimage.transform import (hough_line, hough_line_peaks, hough_circle,\n",
    "hough_circle_peaks)\n",
    "from skimage.draw import circle_perimeter\n",
    "from skimage.feature import canny\n",
    "from skimage.data import astronaut\n",
    "from skimage.io import imread, imsave\n",
    "from skimage.color import rgb2gray, gray2rgb, label2rgb\n",
    "from skimage import img_as_float\n",
    "from skimage.morphology import skeletonize\n",
    "from skimage import data, img_as_float\n",
    "import matplotlib.pyplot as pylab\n",
    "from matplotlib import cm\n",
    "from skimage.filters import sobel, threshold_otsu\n",
    "from skimage.feature import canny\n",
    "from skimage.segmentation import felzenszwalb, slic, quickshift, watershed\n",
    "from skimage.segmentation import mark_boundaries, find_boundaries"
   ]
  },
  {
   "metadata": {
    "ExecuteTime": {
     "end_time": "2024-11-25T09:41:17.427663Z",
     "start_time": "2024-11-25T09:41:17.359734Z"
    }
   },
   "cell_type": "code",
   "source": [
    "image = rgb2gray(imread('./images/triangle_circle.png'))\n",
    "# Classic straight-line Hough transform\n",
    "h, theta, d = hough_line(image)\n",
    "fig, axes = pylab.subplots(2, 2, figsize=(20, 20))\n",
    "axes = axes.ravel()\n",
    "axes[0].imshow(image, cmap=cm.gray), axes[0].set_title('Input image',\n",
    "size=20), axes[0].set_axis_off()\n",
    "axes[1].imshow(np.log(1 + h),\n",
    "extent=[10*np.rad2deg(theta[-1]), np.rad2deg(theta[0]), d[-1], d[0]],\n",
    "cmap=cm.hot, aspect=1/1.5)\n",
    "axes[1].set_title('Hough transform', size=20)\n",
    "axes[1].set_xlabel('Angles (degrees)', size=20),\n",
    "axes[1].set_ylabel('Distance (pixels)', size=20)\n",
    "axes[1].axis('image')\n",
    "axes[2].imshow(image, cmap=cm.gray)\n",
    "for _, angle, dist in zip(*hough_line_peaks(h, theta, d)):\n",
    "    y0 = (dist - 0 * np.cos(angle)) / np.sin(angle)\n",
    "    y1 = (dist - image.shape[1] * np.cos(angle)) / np.sin(angle)\n",
    "    axes[2].plot((0, image.shape[1]), (y0, y1), '-r')\n",
    "axes[2].set_xlim((0, image.shape[1])), axes[2].set_ylim((image.shape[0],0))\n",
    "axes[2].set_axis_off(), axes[2].set_title('Detected lines', size=20)\n",
    "# Circle Hough transform\n",
    "hough_radii = np.arange(50, 100, 2)\n",
    "hough_res = hough_circle(image, hough_radii)\n",
    "# Select the most prominent 6 circles\n",
    "accums, c_x, c_y, radii = hough_circle_peaks(hough_res, hough_radii,\n",
    "total_num_peaks=6)\n",
    "segmented_image = np.zeros_like(image)\n",
    "image = gray2rgb(image)\n",
    "for center_y, center_x, radius in zip(c_y, c_x, radii):\n",
    "    circ_y, circ_x = circle_perimeter(center_y, center_x, radius)\n",
    "    image[circ_y, circ_x] = (1, 0, 0)\n",
    "    segmented_image[circ_y, circ_x] = 1\n",
    "axes[1].imshow(image, cmap=pylab.cm.gray), axes[1].set_axis_off()\n",
    "axes[1].set_title('Detected Circles', size=20)\n",
    "axes[2].imshow(segmented_image, cmap=pylab.cm.gray), axes[2].set_axis_off()\n",
    "axes[2].set_title('Segmented Image', size=20)\n",
    "pylab.tight_layout(), pylab.axis('off'), pylab.show()"
   ],
   "id": "9fc1d6b08044a4b4",
   "outputs": [
    {
     "ename": "NameError",
     "evalue": "name 'rgb2gray' is not defined",
     "output_type": "error",
     "traceback": [
      "\u001B[0;31m---------------------------------------------------------------------------\u001B[0m",
      "\u001B[0;31mNameError\u001B[0m                                 Traceback (most recent call last)",
      "Cell \u001B[0;32mIn[2], line 1\u001B[0m\n\u001B[0;32m----> 1\u001B[0m image \u001B[38;5;241m=\u001B[39m \u001B[43mrgb2gray\u001B[49m(imread(\u001B[38;5;124m'\u001B[39m\u001B[38;5;124m./images/triangle_circle.png\u001B[39m\u001B[38;5;124m'\u001B[39m))\n\u001B[1;32m      2\u001B[0m \u001B[38;5;66;03m# Classic straight-line Hough transform\u001B[39;00m\n\u001B[1;32m      3\u001B[0m h, theta, d \u001B[38;5;241m=\u001B[39m hough_line(image)\n",
      "\u001B[0;31mNameError\u001B[0m: name 'rgb2gray' is not defined"
     ]
    }
   ],
   "execution_count": 2
  }
 ],
 "metadata": {
  "kernelspec": {
   "display_name": "Python 3",
   "language": "python",
   "name": "python3"
  },
  "language_info": {
   "codemirror_mode": {
    "name": "ipython",
    "version": 2
   },
   "file_extension": ".py",
   "mimetype": "text/x-python",
   "name": "python",
   "nbconvert_exporter": "python",
   "pygments_lexer": "ipython2",
   "version": "2.7.6"
  }
 },
 "nbformat": 4,
 "nbformat_minor": 5
}
